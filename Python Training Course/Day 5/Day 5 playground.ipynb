{
 "cells": [
  {
   "cell_type": "raw",
   "metadata": {},
   "source": [
    "1. Open the file\n",
    "2. Write data to the file or read the file\n",
    "3. Close the file\n",
    "\n",
    "-- there is a built-in open() function ... sytax: open(file, mode)\n",
    "modes: r, w, a, b\n",
    "\n",
    "r= read, w= write, a= append, b= binary\n",
    "\n",
    "-- there is a close function close()\n",
    "\n"
   ]
  },
  {
   "cell_type": "code",
   "execution_count": 1,
   "metadata": {},
   "outputs": [],
   "source": [
    "outfile = open(\"test.txt\", \"w\")\n",
    "outfile.write(\"Text\")\n",
    "outfile.close()"
   ]
  },
  {
   "cell_type": "raw",
   "metadata": {},
   "source": [
    "with open(file, mode) as file_objects:\n",
    "    statements..."
   ]
  },
  {
   "cell_type": "code",
   "execution_count": 2,
   "metadata": {},
   "outputs": [],
   "source": [
    "with open(\"test.txt\", \"w\") as outfile:\n",
    "    outfile.write(\"Another test\\n\")\n",
    "    outfile.write(\"Another, another test\")"
   ]
  },
  {
   "cell_type": "code",
   "execution_count": 3,
   "metadata": {},
   "outputs": [
    {
     "name": "stdout",
     "output_type": "stream",
     "text": [
      "Another test\n",
      "\n"
     ]
    }
   ],
   "source": [
    "with open(\"test.txt\", \"r\") as infile:\n",
    "    print(infile.readline())"
   ]
  },
  {
   "cell_type": "code",
   "execution_count": 4,
   "metadata": {},
   "outputs": [],
   "source": [
    "with open(\"learners.txt\" , \"w\") as file:\n",
    "    file.write(\"JoeDynasty\\n\")"
   ]
  },
  {
   "cell_type": "code",
   "execution_count": 5,
   "metadata": {},
   "outputs": [],
   "source": [
    "with open(\"learners.txt\", \"a\") as file:\n",
    "    file.write(\"Dr. Lee\\n\")"
   ]
  },
  {
   "cell_type": "code",
   "execution_count": 6,
   "metadata": {},
   "outputs": [],
   "source": [
    "with open(\"learners.txt\", \"a\") as file:\n",
    "    file.write(\"Leo\\n\")"
   ]
  },
  {
   "cell_type": "code",
   "execution_count": 10,
   "metadata": {},
   "outputs": [
    {
     "name": "stdout",
     "output_type": "stream",
     "text": [
      "JoeDynasty\n",
      "Dr. Lee\n",
      "Leo\n",
      "\n"
     ]
    }
   ],
   "source": [
    "with open(\"learners.txt\") as abc:\n",
    "    for line in abc:\n",
    "        print(line, end = \"\")\n",
    "    print()"
   ]
  },
  {
   "cell_type": "code",
   "execution_count": 11,
   "metadata": {},
   "outputs": [
    {
     "name": "stdout",
     "output_type": "stream",
     "text": [
      "JoeDynasty\n",
      "Dr. Lee\n",
      "Leo\n",
      "\n"
     ]
    }
   ],
   "source": [
    "with open(\"learners.txt\") as file:\n",
    "    contents = file.read()\n",
    "    print(contents)"
   ]
  },
  {
   "cell_type": "code",
   "execution_count": 34,
   "metadata": {},
   "outputs": [
    {
     "name": "stdout",
     "output_type": "stream",
     "text": [
      "The Data Type of the Learner File is: <class 'list'>\n",
      "JoeDynasty\n",
      "Dr. Lee\n",
      "Leo\n"
     ]
    }
   ],
   "source": [
    "with open(\"learners.txt\") as file:\n",
    "    learners = file.readlines()\n",
    "    print(\"The Data Type of the Learner File is: \" + str(type(learners)))\n",
    "    print(learners[0], end = \"\")\n",
    "    print(learners[1], end = \"\")\n",
    "    print(learners[2], end = \"\")"
   ]
  },
  {
   "cell_type": "code",
   "execution_count": 33,
   "metadata": {},
   "outputs": [
    {
     "name": "stdout",
     "output_type": "stream",
     "text": [
      "JoeDynasty\n",
      "Dr. Lee\n"
     ]
    }
   ],
   "source": [
    "with open(\"learners.txt\") as file:\n",
    "    learner1 = file.readline()\n",
    "    print(learner1, end = \"\")\n",
    "    learner2 = file.readline()\n",
    "    print(learner2, end = \"\")"
   ]
  },
  {
   "cell_type": "code",
   "execution_count": 26,
   "metadata": {},
   "outputs": [],
   "source": [
    "members = [\"Andre Matthews\", \"Kal Sweden\", \"Jed Zed\"]\n",
    "with open(\"members.txt\", \"w\") as file:\n",
    "    for m in members:\n",
    "        file.write(f\"{m}\\n\")\n",
    "        "
   ]
  },
  {
   "cell_type": "code",
   "execution_count": 35,
   "metadata": {},
   "outputs": [
    {
     "name": "stdout",
     "output_type": "stream",
     "text": [
      "['Andre Matthews', 'Kal Sweden', 'Jed Zed']\n"
     ]
    }
   ],
   "source": [
    "members = []\n",
    "with open(\"members.txt\") as file:\n",
    "    for line in file:\n",
    "        line = line.replace(\"\\n\", \"\") # remove new line\n",
    "        members.append(line)\n",
    "print(members)"
   ]
  },
  {
   "cell_type": "code",
   "execution_count": 38,
   "metadata": {},
   "outputs": [],
   "source": [
    "years = [1975, 1979, 1983, 1978]\n",
    "with open(\"years.txt\", \"w\") as years_file:\n",
    "    for year in years:\n",
    "        years_file.write(f\"{year}\\n\")  \n",
    "        "
   ]
  },
  {
   "cell_type": "code",
   "execution_count": 39,
   "metadata": {},
   "outputs": [
    {
     "name": "stdout",
     "output_type": "stream",
     "text": [
      "['1975', '1979', '1983', '1978']\n"
     ]
    }
   ],
   "source": [
    "years = []\n",
    "with open(\"years.txt\") as file:\n",
    "    for line in file:\n",
    "        line = line.replace(\"\\n\", \"\") # remove new line\n",
    "        years.append(line)\n",
    "print(years)"
   ]
  },
  {
   "cell_type": "code",
   "execution_count": 45,
   "metadata": {},
   "outputs": [
    {
     "name": "stdout",
     "output_type": "stream",
     "text": [
      "The Movie List program\n",
      "\n",
      "COMMAND MENU\n",
      "list - List all movies\n",
      "add -  Add a movie\n",
      "del -  Delete a movie\n",
      "exit - Exit program\n",
      "\n"
     ]
    },
    {
     "name": "stdin",
     "output_type": "stream",
     "text": [
      "Command:  add a movie\n"
     ]
    },
    {
     "name": "stdout",
     "output_type": "stream",
     "text": [
      "Not a valid command.  Please try again.\n"
     ]
    },
    {
     "name": "stdin",
     "output_type": "stream",
     "text": [
      "Command:  add\n",
      "Movie:  n\n"
     ]
    },
    {
     "name": "stdout",
     "output_type": "stream",
     "text": [
      "n was added.\n",
      "\n"
     ]
    },
    {
     "name": "stdin",
     "output_type": "stream",
     "text": [
      "Command:  exit\n"
     ]
    },
    {
     "name": "stdout",
     "output_type": "stream",
     "text": [
      "Bye!\n"
     ]
    }
   ],
   "source": [
    "FILENAME = \"movies.txt\"\n",
    " \n",
    "def write_movies(movies):\n",
    "    with open(FILENAME, \"w\") as file:\n",
    "        for movie in movies:\n",
    "            file.write(f\"{movie}\\n\")    \n",
    "\n",
    "def read_movies():\n",
    "    movies = []\n",
    "    with open(FILENAME) as file:\n",
    "        for line in file:\n",
    "            line = line.replace(\"\\n\", \"\")\n",
    "            movies.append(line)\n",
    "    return movies\n",
    "    \n",
    "def list_movies(movies):\n",
    "    for i, movie in enumerate(movies, start=1):\n",
    "        print(f\"{i}. {movie}\")\n",
    "    print()\n",
    "\n",
    "def add_movie(movies):\n",
    "    movie = input(\"Movie: \")\n",
    "    movies.append(movie)\n",
    "    write_movies(movies)\n",
    "    print(f\"{movie} was added.\\n\")\n",
    "\n",
    "def delete_movie(movies):\n",
    "    index = int(input(\"Number: \"))   \n",
    "    if index < 1 or index > len(movies):\n",
    "        print(\"Invalid movie number.\\n\")\n",
    "    else:\n",
    "        movie = movies.pop(index - 1)\n",
    "        write_movies(movies)\n",
    "        print(f\"{movie} was deleted.\\n\")\n",
    "\n",
    "def display_menu():\n",
    "    print(\"The Movie List program\")\n",
    "    print()\n",
    "    print(\"COMMAND MENU\")\n",
    "    print(\"list - List all movies\")\n",
    "    print(\"add -  Add a movie\")\n",
    "    print(\"del -  Delete a movie\")\n",
    "    print(\"exit - Exit program\")\n",
    "    print()\n",
    "\n",
    "def main():\n",
    "    display_menu()\n",
    "    movies = read_movies()\n",
    "    while True:\n",
    "        command = input(\"Command: \")\n",
    "        if command.lower() == \"list\":\n",
    "            list_movies(movies)\n",
    "        elif command.lower() == \"add\":\n",
    "            add_movie(movies)\n",
    "        elif command.lower() == \"del\":\n",
    "            delete_movie(movies)\n",
    "        elif command.lower() == \"exit\":\n",
    "            print(\"Bye!\")\n",
    "            break\n",
    "        else:\n",
    "            print(\"Not a valid command. \",\n",
    "                  \"Please try again.\")\n",
    "\n",
    "if __name__ == \"__main__\":\n",
    "    main()\n",
    "\n"
   ]
  },
  {
   "cell_type": "code",
   "execution_count": null,
   "metadata": {},
   "outputs": [],
   "source": []
  }
 ],
 "metadata": {
  "kernelspec": {
   "display_name": "Python 3",
   "language": "python",
   "name": "python3"
  },
  "language_info": {
   "codemirror_mode": {
    "name": "ipython",
    "version": 3
   },
   "file_extension": ".py",
   "mimetype": "text/x-python",
   "name": "python",
   "nbconvert_exporter": "python",
   "pygments_lexer": "ipython3",
   "version": "3.7.3"
  }
 },
 "nbformat": 4,
 "nbformat_minor": 4
}
