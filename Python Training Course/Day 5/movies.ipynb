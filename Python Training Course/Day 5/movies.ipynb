{
 "cells": [
  {
   "cell_type": "code",
   "execution_count": null,
   "metadata": {},
   "outputs": [],
   "source": [
    "FILENAME = \"movies.txt\"\n",
    " \n",
    "def write_movies(movies):\n",
    "    with open(FILENAME, \"w\") as file:\n",
    "        for movie in movies:\n",
    "            file.write(f\"{movie}\\n\")    \n",
    "\n",
    "def read_movies():\n",
    "    movies = []\n",
    "    with open(FILENAME) as file:\n",
    "        for line in file:\n",
    "            line = line.replace(\"\\n\", \"\")\n",
    "            movies.append(line)\n",
    "    return movies\n",
    "    \n",
    "def list_movies(movies):\n",
    "    for i, movie in enumerate(movies, start=1):\n",
    "        print(f\"{i}. {movie}\")\n",
    "    print()\n",
    "\n",
    "def add_movie(movies):\n",
    "    movie = input(\"Movie: \")\n",
    "    movies.append(movie)\n",
    "    write_movies(movies)\n",
    "    print(f\"{movie} was added.\\n\")\n",
    "\n",
    "def delete_movie(movies):\n",
    "    index = int(input(\"Number: \"))   \n",
    "    if index < 1 or index > len(movies):\n",
    "        print(\"Invalid movie number.\\n\")\n",
    "    else:\n",
    "        movie = movies.pop(index - 1)\n",
    "        write_movies(movies)\n",
    "        print(f\"{movie} was deleted.\\n\")\n",
    "\n",
    "def display_menu():\n",
    "    print(\"The Movie List program\")\n",
    "    print()\n",
    "    print(\"COMMAND MENU\")\n",
    "    print(\"list - List all movies\")\n",
    "    print(\"add -  Add a movie\")\n",
    "    print(\"del -  Delete a movie\")\n",
    "    print(\"exit - Exit program\")\n",
    "    print()\n",
    "\n",
    "def main():\n",
    "    display_menu()\n",
    "    movies = read_movies()\n",
    "    while True:\n",
    "        command = input(\"Command: \")\n",
    "        if command.lower() == \"list\":\n",
    "            list_movies(movies)\n",
    "        elif command.lower() == \"add\":\n",
    "            add_movie(movies)\n",
    "        elif command.lower() == \"del\":\n",
    "            delete_movie(movies)\n",
    "        elif command.lower() == \"exit\":\n",
    "            print(\"Bye!\")\n",
    "            break\n",
    "        else:\n",
    "            print(\"Not a valid command. \",\n",
    "                  \"Please try again.\")\n",
    "\n",
    "if __name__ == \"__main__\":\n",
    "    main()\n",
    "\n"
   ]
  },
  {
   "cell_type": "code",
   "execution_count": 3,
   "metadata": {},
   "outputs": [
    {
     "name": "stdout",
     "output_type": "stream",
     "text": [
      "The Movie List program\n",
      "\n",
      "COMMAND MENU\n",
      "list - List all movies\n",
      "add -  Add a movie\n",
      "del -  Delete a movie\n",
      "exit - Exit program\n",
      "\n"
     ]
    },
    {
     "name": "stdin",
     "output_type": "stream",
     "text": [
      "Command:  add\n",
      "Movie:  Inception\n"
     ]
    },
    {
     "name": "stdout",
     "output_type": "stream",
     "text": [
      "Inception was added.\n",
      "\n"
     ]
    },
    {
     "name": "stdin",
     "output_type": "stream",
     "text": [
      "Command:  list\n"
     ]
    },
    {
     "name": "stdout",
     "output_type": "stream",
     "text": [
      "1. ['Monty Python and the Holy Grail', ' 1975']\n",
      "2. ['Cat on a Hot Tin Roof', ' 1958']\n",
      "3. ['On the Waterfront', ' 1954']\n",
      "4. ['I']\n",
      "5. Inception\n",
      "\n"
     ]
    },
    {
     "name": "stdin",
     "output_type": "stream",
     "text": [
      "Command:  del\n",
      "Number:  4\n"
     ]
    },
    {
     "name": "stdout",
     "output_type": "stream",
     "text": [
      "I was deleted.\n",
      "\n"
     ]
    },
    {
     "name": "stdin",
     "output_type": "stream",
     "text": [
      "Command:  list\n"
     ]
    },
    {
     "name": "stdout",
     "output_type": "stream",
     "text": [
      "1. ['Monty Python and the Holy Grail', ' 1975']\n",
      "2. ['Cat on a Hot Tin Roof', ' 1958']\n",
      "3. ['On the Waterfront', ' 1954']\n",
      "4. Inception\n",
      "\n"
     ]
    },
    {
     "name": "stdin",
     "output_type": "stream",
     "text": [
      "Command:  exit\n"
     ]
    },
    {
     "name": "stdout",
     "output_type": "stream",
     "text": [
      "Bye!\n"
     ]
    }
   ],
   "source": [
    "import csv\n",
    "import sys\n",
    " \n",
    "FILENAME = \"movies.csv\"\n",
    " \n",
    "def read_movies():\n",
    "    try:\n",
    "        movies = []\n",
    "        with open(FILENAME, newline=\"\") as file:\n",
    "            reader = csv.reader(file)\n",
    "            for row in reader:\n",
    "                movies.append(row)\n",
    "        return movies\n",
    "    except FileNotFoundError:\n",
    "        print(f\"Could not find {FILENAME} file.\")\n",
    "        exit_program()\n",
    "    except Exception as e:\n",
    "        print(type(e), e)\n",
    "        exit_program()\n",
    "\n",
    "def write_movies(movies):\n",
    "    try:\n",
    "        with open(FILENAME, \"w\", newline=\"\") as file:\n",
    "            writer = csv.writer(file)\n",
    "            writer.writerows(movies)\n",
    "    except Exception as e:\n",
    "        print(type(e), e)\n",
    "        exit_program()\n",
    "\n",
    "def list_movies(movies):\n",
    "    for i, movie in enumerate(movies, start=1):\n",
    "        print(f\"{i}. {movie}\")\n",
    "    print()        \n",
    "        \n",
    "def add_movie(movies):\n",
    "    movie = input(\"Movie: \")\n",
    "    movies.append(movie)\n",
    "    write_movies(movies)\n",
    "    print(f\"{movie} was added.\\n\")\n",
    "\n",
    "def exit_program():\n",
    "    print(\"Terminating program.\")\n",
    "    sys.exit()\n",
    "    \n",
    "def delete_movie(movies):\n",
    "    while True:\n",
    "        try:\n",
    "            index = int(input(\"Number: \"))\n",
    "        except ValueError:\n",
    "            print(\"Invalid integer. Please try again.\")\n",
    "            continue\n",
    " \n",
    "        if index < 1 or index > len(movies):\n",
    "            print(\"There is no movie with that number. \" +\n",
    "                  \"Please try again.\")\n",
    "        else:\n",
    "            break\n",
    " \n",
    "    movie = movies.pop(index - 1)\n",
    "    write_movies(movies)\n",
    "    print(f\"{movie[0]} was deleted.\\n\")\n",
    "\n",
    "def display_menu():\n",
    "    print(\"The Movie List program\")\n",
    "    print()\n",
    "    print(\"COMMAND MENU\")\n",
    "    print(\"list - List all movies\")\n",
    "    print(\"add -  Add a movie\")\n",
    "    print(\"del -  Delete a movie\")\n",
    "    print(\"exit - Exit program\")\n",
    "    print()    \n",
    "    \n",
    "    \n",
    "def main():\n",
    "    display_menu()\n",
    "    movies = read_movies()\n",
    "    while True:        \n",
    "        command = input(\"Command: \")\n",
    "        if command.lower() == \"list\":\n",
    "            list_movies(movies)\n",
    "        elif command.lower() == \"add\":\n",
    "            add_movie(movies)\n",
    "        elif command.lower() == \"del\":\n",
    "            delete_movie(movies)\n",
    "        elif command.lower() == \"exit\":\n",
    "            break\n",
    "        else:\n",
    "            print(\"Not a valid command. Please try again.\\n\")\n",
    "    print(\"Bye!\")\n",
    "    \n",
    "main()"
   ]
  },
  {
   "cell_type": "code",
   "execution_count": null,
   "metadata": {},
   "outputs": [],
   "source": []
  }
 ],
 "metadata": {
  "kernelspec": {
   "display_name": "Python 3",
   "language": "python",
   "name": "python3"
  },
  "language_info": {
   "codemirror_mode": {
    "name": "ipython",
    "version": 3
   },
   "file_extension": ".py",
   "mimetype": "text/x-python",
   "name": "python",
   "nbconvert_exporter": "python",
   "pygments_lexer": "ipython3",
   "version": "3.7.3"
  }
 },
 "nbformat": 4,
 "nbformat_minor": 4
}
