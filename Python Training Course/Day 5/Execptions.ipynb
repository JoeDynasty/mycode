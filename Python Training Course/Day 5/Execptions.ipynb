{
 "cells": [
  {
   "cell_type": "code",
   "execution_count": null,
   "metadata": {},
   "outputs": [],
   "source": [
    "print(\"hi\")\n",
    "print(\"How are you?\")\n",
    "open(\"unicorn.dat\")"
   ]
  },
  {
   "cell_type": "code",
   "execution_count": null,
   "metadata": {},
   "outputs": [],
   "source": [
    "1/0"
   ]
  },
  {
   "cell_type": "code",
   "execution_count": null,
   "metadata": {},
   "outputs": [],
   "source": [
    "x := 21\n",
    "print(x)"
   ]
  },
  {
   "cell_type": "code",
   "execution_count": null,
   "metadata": {},
   "outputs": [],
   "source": [
    "raise IOError(\"This is a test for manually raising an exception\")"
   ]
  },
  {
   "cell_type": "code",
   "execution_count": null,
   "metadata": {},
   "outputs": [],
   "source": [
    "http://docs.python.org/3/library/exceptions.html\n",
    "    1. Ignore the exception and let the app crash with the traceback\n",
    "    2. Catch the exception and print a friendly response\n",
    "    "
   ]
  },
  {
   "cell_type": "code",
   "execution_count": null,
   "metadata": {},
   "outputs": [
    {
     "name": "stdin",
     "output_type": "stream",
     "text": [
      "How old are you?  5\n"
     ]
    },
    {
     "name": "stdout",
     "output_type": "stream",
     "text": [
      "Nice, you are still young\n"
     ]
    }
   ],
   "source": [
    "def get_age():\n",
    "    while True:\n",
    "        try:\n",
    "            n = int(input(\"How old are you? \"))\n",
    "            if 1 <= n <= 18:\n",
    "                print(\"Nice, you are still young\")\n",
    "            elif 19 <= n <= 32:\n",
    "                print(\"Nice, hopefully you got a good live ahead\")\n",
    "            elif 33 <= n <= 62:\n",
    "                print(\"Almost at the age of retirement\")\n",
    "            elif n >=63 :\n",
    "                print(\"Time to retirement boss\")\n",
    "            elif n == 0:\n",
    "                print(\"Bye!\")\n",
    "                break\n",
    "        except ValueError:\n",
    "            print(\"Please enter an integer value.\")\n",
    "get_age()"
   ]
  },
  {
   "cell_type": "code",
   "execution_count": null,
   "metadata": {},
   "outputs": [],
   "source": [
    "def convert_to_int1(s, base):\n",
    "    try:\n",
    "        return int(s, base)\n",
    "    except(ValueError, TypeError):\n",
    "        return 'error'\n",
    "\n",
    "convert_to_int1('two', 10)"
   ]
  },
  {
   "cell_type": "code",
   "execution_count": null,
   "metadata": {},
   "outputs": [],
   "source": [
    "def convert_to_int2(s, base):\n",
    "    try:\n",
    "        return int(s, base)\n",
    "    except ValueError:\n",
    "        return 'value error'\n",
    "    except TypeError:\n",
    "        return 'TypeError'\n",
    "    \n",
    "convert_to_int2(\"two\", 10)"
   ]
  },
  {
   "cell_type": "code",
   "execution_count": null,
   "metadata": {},
   "outputs": [],
   "source": [
    "def convert_to_int3(s, base):\n",
    "    try:\n",
    "        return int(s, base)\n",
    "    except:\n",
    "        return 'error'\n",
    "\n",
    "convert_to_int3(\"two\", 10)"
   ]
  },
  {
   "cell_type": "code",
   "execution_count": null,
   "metadata": {},
   "outputs": [],
   "source": [
    "def invert(x):\n",
    "    try: \n",
    "        return 1/x\n",
    "    except ZeroDivisionError:\n",
    "        return 'error'\n",
    "    finally: \n",
    "        print('invert(%s) done' % x)\n",
    "\n",
    "invert(0)"
   ]
  },
  {
   "cell_type": "code",
   "execution_count": null,
   "metadata": {},
   "outputs": [],
   "source": [
    "num = 1\n",
    "f = open(fname)\n",
    "for line in f:\n",
    "    print(num, line, end = \"\")\n",
    "    num - num + 1"
   ]
  },
  {
   "cell_type": "code",
   "execution_count": null,
   "metadata": {},
   "outputs": [],
   "source": [
    "num = 1\n",
    "with open(fname, 'r') as f:\n",
    "    for line in f:\n",
    "        print(num, line, and=\"\")\n",
    "        num = num + 1\n"
   ]
  },
  {
   "cell_type": "code",
   "execution_count": 4,
   "metadata": {},
   "outputs": [
    {
     "name": "stdin",
     "output_type": "stream",
     "text": [
      "Enter an integer:  8\n"
     ]
    },
    {
     "name": "stdout",
     "output_type": "stream",
     "text": [
      "You entered a valid integer of 8. \n",
      "Thanks!\n"
     ]
    }
   ],
   "source": [
    "try:\n",
    "    number = int(input(\"Enter an integer: \"))\n",
    "    print(f\"You entered a valid integer of {number}. \")\n",
    "except:\n",
    "    print(\"You enetered an invalid integer. Please try again.\")\n",
    "print(\"Thanks!\")\n",
    "\n"
   ]
  },
  {
   "cell_type": "code",
   "execution_count": 5,
   "metadata": {},
   "outputs": [
    {
     "name": "stdout",
     "output_type": "stream",
     "text": [
      "The Total Calculator program\n",
      "\n"
     ]
    },
    {
     "name": "stdin",
     "output_type": "stream",
     "text": [
      "Enter price:  500\n",
      "Enter quantity:  4\n"
     ]
    },
    {
     "name": "stdout",
     "output_type": "stream",
     "text": [
      "\n",
      "PRICE:     500.0\n",
      "QUANTITY:  4\n",
      "TOTAL:     2000.0\n"
     ]
    }
   ],
   "source": [
    "def get_price():\n",
    "    while True:\n",
    "        try:\n",
    "            price = float(input(\"Enter price: \"))\n",
    "            return price\n",
    "        except ValueError:\n",
    "            print(\"Invalid decimal number. Please try again.\")\n",
    "    \n",
    "def get_quantity():\n",
    "    while True:\n",
    "        try:\n",
    "            quantity = int(input(\"Enter quantity: \"))\n",
    "            return quantity\n",
    "        except ValueError:\n",
    "            print(\"Invalid integer. Please try again.\")\n",
    "\n",
    "def main():\n",
    "    print(\"The Total Calculator program\\n\")\n",
    " \n",
    "    # get the price and quantity\n",
    "    price = get_price()\n",
    "    quantity = get_quantity()\n",
    "    \n",
    "    # calculate the total\n",
    "    total = price * quantity\n",
    " \n",
    "    # display the results\n",
    "    print()\n",
    "    print(\"PRICE:    \", price)\n",
    "    print(\"QUANTITY: \", quantity)\n",
    "    print(\"TOTAL:    \", total)\n",
    "\n",
    "if __name__ == \"__main__\":\n",
    "    main()\n",
    "\n",
    "\n",
    "\n"
   ]
  },
  {
   "cell_type": "code",
   "execution_count": 8,
   "metadata": {},
   "outputs": [
    {
     "name": "stdin",
     "output_type": "stream",
     "text": [
      "Enter filename:  efe\n"
     ]
    },
    {
     "name": "stdout",
     "output_type": "stream",
     "text": [
      "FileNotFoundError: [Errno 2] No such file or directory: 'efe'\n"
     ]
    },
    {
     "ename": "SystemExit",
     "evalue": "",
     "output_type": "error",
     "traceback": [
      "An exception has occurred, use %tb to see the full traceback.\n",
      "\u001b[0;31mSystemExit\u001b[0m\n"
     ]
    }
   ],
   "source": [
    "import sys\n",
    " \n",
    "filename = input(\"Enter filename: \")\n",
    "movies = []\n",
    "try:\n",
    "    with open(filename) as file:\n",
    "        for line in file:\n",
    "            line = line.replace(\"\\n\", \"\")\n",
    "            movies.append(line)\n",
    "except FileNotFoundError as e:\n",
    "    print(\"FileNotFoundError:\", e)\n",
    "    sys.exit()\n",
    "except OSError as e:\n",
    "    print(\"OSError:\", e)\n",
    "    sys.exit()\n",
    "except Exception as e:\n",
    "    print(type(e), e)\n",
    "    sys.exit()\n"
   ]
  },
  {
   "cell_type": "code",
   "execution_count": 11,
   "metadata": {},
   "outputs": [
    {
     "name": "stdout",
     "output_type": "stream",
     "text": [
      "The Movie List program\n",
      "\n",
      "COMMAND MENU\n",
      "list - List all movies\n",
      "add -  Add a movie\n",
      "del -  Delete a movie\n",
      "exit - Exit program\n",
      "\n"
     ]
    },
    {
     "name": "stdin",
     "output_type": "stream",
     "text": [
      "Command:  exit\n"
     ]
    },
    {
     "name": "stdout",
     "output_type": "stream",
     "text": [
      "Bye!\n"
     ]
    }
   ],
   "source": [
    "import csv\n",
    "import sys\n",
    " \n",
    "FILENAME = \"movies.csv\"\n",
    " \n",
    "def read_movies():\n",
    "    try:\n",
    "        movies = []\n",
    "        with open(FILENAME, newline=\"\") as file:\n",
    "            reader = csv.reader(file)\n",
    "            for row in reader:\n",
    "                movies.append(row)\n",
    "        return movies\n",
    "    except FileNotFoundError:\n",
    "        print(f\"Could not find {FILENAME} file.\")\n",
    "        exit_program()\n",
    "    except Exception as e:\n",
    "        print(type(e), e)\n",
    "        exit_program()\n",
    "def write_movies(movies):\n",
    "    try:\n",
    "        with open(FILENAME, \"w\", newline=\"\") as file:\n",
    "            writer = csv.writer(file)\n",
    "            writer.writerows(movies)\n",
    "    except Exception as e:\n",
    "        print(type(e), e)\n",
    "        exit_program()\n",
    "\n",
    "def exit_program():\n",
    "    print(\"Terminating program.\")\n",
    "    sys.exit()\n",
    "    \n",
    "def delete_movie(movies):\n",
    "    while True:\n",
    "        try:\n",
    "            index = int(input(\"Number: \"))\n",
    "        except ValueError:\n",
    "            print(\"Invalid integer. Please try again.\")\n",
    "            continue\n",
    " \n",
    "        if index < 1 or index > len(movies):\n",
    "            print(\"There is no movie with that number. \" +\n",
    "                  \"Please try again.\")\n",
    "        else:\n",
    "            break\n",
    " \n",
    "    movie = movies.pop(index - 1)\n",
    "    write_movies(movies)\n",
    "    print(f\"{movie[0]} was deleted.\\n\")\n",
    "\n",
    "def display_menu():\n",
    "    print(\"The Movie List program\")\n",
    "    print()\n",
    "    print(\"COMMAND MENU\")\n",
    "    print(\"list - List all movies\")\n",
    "    print(\"add -  Add a movie\")\n",
    "    print(\"del -  Delete a movie\")\n",
    "    print(\"exit - Exit program\")\n",
    "    print()    \n",
    "    \n",
    "    \n",
    "def main():\n",
    "    display_menu()\n",
    "    movies = read_movies()\n",
    "    while True:        \n",
    "        command = input(\"Command: \")\n",
    "        if command.lower() == \"list\":\n",
    "            list_movies(movies)\n",
    "        elif command.lower() == \"add\":\n",
    "            add_movie(movies)\n",
    "        elif command.lower() == \"del\":\n",
    "            delete_movie(movies)\n",
    "        elif command.lower() == \"exit\":\n",
    "            break\n",
    "        else:\n",
    "            print(\"Not a valid command. Please try again.\\n\")\n",
    "    print(\"Bye!\")\n",
    "    \n",
    "main()"
   ]
  },
  {
   "cell_type": "code",
   "execution_count": null,
   "metadata": {},
   "outputs": [],
   "source": []
  }
 ],
 "metadata": {
  "kernelspec": {
   "display_name": "Python 3",
   "language": "python",
   "name": "python3"
  },
  "language_info": {
   "codemirror_mode": {
    "name": "ipython",
    "version": 3
   },
   "file_extension": ".py",
   "mimetype": "text/x-python",
   "name": "python",
   "nbconvert_exporter": "python",
   "pygments_lexer": "ipython3",
   "version": "3.7.3"
  }
 },
 "nbformat": 4,
 "nbformat_minor": 4
}
