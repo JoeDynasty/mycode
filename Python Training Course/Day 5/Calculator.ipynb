{
 "cells": [
  {
   "cell_type": "code",
   "execution_count": null,
   "metadata": {},
   "outputs": [],
   "source": [
    "def get_price():\n",
    "    while True:\n",
    "        try:\n",
    "            price = float(input(\"Enter price: \"))\n",
    "            return price\n",
    "        except ValueError:\n",
    "            print(\"Invalid decimal number. Please try again.\")\n",
    "    \n",
    "def get_quantity():\n",
    "    while True:\n",
    "        try:\n",
    "            quantity = int(input(\"Enter quantity: \"))\n",
    "            return quantity\n",
    "        except ValueError:\n",
    "            print(\"Invalid integer. Please try again.\")\n",
    "\n",
    "def main():\n",
    "    print(\"The Total Calculator program\\n\")\n",
    " \n",
    "    # get the price and quantity\n",
    "    price = get_price()\n",
    "    quantity = get_quantity()\n",
    "    \n",
    "    # calculate the total\n",
    "    total = price * quantity\n",
    " \n",
    "    # display the results\n",
    "    print()\n",
    "    print(\"PRICE:    \", price)\n",
    "    print(\"QUANTITY: \", quantity)\n",
    "    print(\"TOTAL:    \", total)\n",
    "\n",
    "if __name__ == \"__main__\":\n",
    "    main()\n",
    "    \n"
   ]
  }
 ],
 "metadata": {
  "kernelspec": {
   "display_name": "Python 3",
   "language": "python",
   "name": "python3"
  },
  "language_info": {
   "codemirror_mode": {
    "name": "ipython",
    "version": 3
   },
   "file_extension": ".py",
   "mimetype": "text/x-python",
   "name": "python",
   "nbconvert_exporter": "python",
   "pygments_lexer": "ipython3",
   "version": "3.7.3"
  }
 },
 "nbformat": 4,
 "nbformat_minor": 4
}
