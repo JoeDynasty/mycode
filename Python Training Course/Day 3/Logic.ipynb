{
 "cells": [
  {
   "cell_type": "code",
   "execution_count": null,
   "metadata": {},
   "outputs": [],
   "source": [
    "#Grade Cal\n",
    "\n",
    "score = int(input(\"Enter your test score: \"))\n",
    "\n",
    "\n",
    "if 90 <= total_score <= 100:\n",
    "    grade = \"A\"\n",
    "    \n",
    "elif 80 <= total_score <= 89:\n",
    "    grade = \"B\" \n",
    "        \n",
    "elif 70 <= total_score <= 79:\n",
    "    grade = \"C\"\n",
    "        \n",
    "elif 60 <= total_score <= 69:\n",
    "    grade = \"D\"\n",
    "\n",
    "elif total_score <= 59:\n",
    "    grade = \"F\"\n",
    "        \n",
    "else: \n",
    "    print(\"Please put in an actual test score!\")\n",
    "\n",
    "print(\"Letter Grade: \" , grade)\n",
    "Continue = input(\"Continue? (y/n)\" )"
   ]
  },
  {
   "cell_type": "code",
   "execution_count": null,
   "metadata": {},
   "outputs": [],
   "source": [
    "#Grade Cal\n",
    "\n",
    "print(\"Letter Grade Converter \")\n",
    "print()\n",
    "\n",
    "choice = \"y\"\n",
    "\n",
    "while choice == \"y\":\n",
    "    score = int(input(\"Enter your test score: \"))\n",
    "    if 90 <= score <= 100: \n",
    "        print(\"Letter Grade: A \")\n",
    "        choice = input(\"Continue? (y/n)\" )\n",
    "        if choice == \"n\":\n",
    "            print(\"Bye!\")\n",
    "            break\n",
    "    elif 80 <= score <= 89: \n",
    "        print(\"Letter Grade: B \")\n",
    "        choice = input(\"Continue? (y/n)\" )\n",
    "        if choice == \"n\":\n",
    "            print(\"Bye!\")\n",
    "            break\n",
    "    elif 70 <= score <= 79: \n",
    "        print(\"Letter Grade: C \")\n",
    "        choice = input(\"Continue? (y/n)\" )\n",
    "        if choice == \"n\":\n",
    "            print(\"Bye!\")\n",
    "            break\n",
    "    elif 60 <= score <= 69: \n",
    "        print(\"Letter Grade: D \")\n",
    "        choice = input(\"Continue? (y/n)\" )\n",
    "        if choice == \"n\":\n",
    "            print(\"Bye!\")\n",
    "            break\n",
    "    elif score <= 59: \n",
    "        print(\"Letter Grade: F \")\n",
    "        choice = input(\"Continue? (y/n)\" )\n",
    "        if choice == \"n\":\n",
    "            print(\"Bye!\")\n",
    "            break\n",
    "    else: \n",
    "        print(\"Please type in a valid score!\")\n",
    "        choice = input(\"Continue? (y/n)\" )\n",
    "        if choice == \"n\":\n",
    "            print(\"Bye!\")\n",
    "            break\n"
   ]
  },
  {
   "cell_type": "code",
   "execution_count": 1,
   "metadata": {},
   "outputs": [
    {
     "name": "stdin",
     "output_type": "stream",
     "text": [
      "Cost of Meal:  52.31\n"
     ]
    },
    {
     "name": "stdout",
     "output_type": "stream",
     "text": [
      "\n",
      "15.0 %\n",
      "Tip Amount:  7.85\n",
      "Total Amount:  60.16\n",
      "\n",
      "20.0 %\n",
      "Tip Amount:  10.46\n",
      "Total Amount:  62.77\n",
      "\n",
      "25.0 %\n",
      "Tip Amount:  13.08\n",
      "Total Amount:  65.39\n",
      "\n"
     ]
    }
   ],
   "source": [
    "#Tip Cal\n",
    "\n",
    "cost_of_meal = 0.0 \n",
    "tip_percent = .15 \n",
    "cost_of_meal = float(input(\"Cost of Meal: \"))\n",
    "print()\n",
    "while tip_percent <= .25: \n",
    "    tip_amount = cost_of_meal * tip_percent\n",
    "    total_amount = tip_amount + cost_of_meal \n",
    "    tip_amount = round(tip_amount, 2)\n",
    "    total_amount = round(total_amount, 2)\n",
    "    print(tip_percent*100,\"%\")\n",
    "    print(\"Tip Amount: \", tip_amount)\n",
    "    print(\"Total Amount: \",total_amount)\n",
    "    print()\n",
    "    tip_percent += .05 "
   ]
  },
  {
   "cell_type": "code",
   "execution_count": null,
   "metadata": {},
   "outputs": [],
   "source": [
    "'''\n",
    "Coin sorting: input any amount of money in cents, and sort them by the amount of coin per value.\n",
    "\n",
    "\n",
    "'''"
   ]
  }
 ],
 "metadata": {
  "kernelspec": {
   "display_name": "Python 3",
   "language": "python",
   "name": "python3"
  },
  "language_info": {
   "codemirror_mode": {
    "name": "ipython",
    "version": 3
   },
   "file_extension": ".py",
   "mimetype": "text/x-python",
   "name": "python",
   "nbconvert_exporter": "python",
   "pygments_lexer": "ipython3",
   "version": "3.7.3"
  }
 },
 "nbformat": 4,
 "nbformat_minor": 4
}
