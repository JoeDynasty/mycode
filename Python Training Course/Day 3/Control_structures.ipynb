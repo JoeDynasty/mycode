{
 "cells": [
  {
   "cell_type": "code",
   "execution_count": null,
   "metadata": {},
   "outputs": [],
   "source": [
    "#Student Registration\n",
    "\n",
    "first_name = input(\"First Name: \")\n",
    "last_name = input(\"Last Name: \")\n",
    "birth = input(\"Birth Year: \")\n",
    "\n",
    "print(\"Welcome\" , first_name , last_name , \"!\")\n",
    "print(\"Your registration is complete.\")\n",
    "print(\"Your temporarily password is: \" , first_name + \"*\" + birth )"
   ]
  },
  {
   "cell_type": "code",
   "execution_count": null,
   "metadata": {},
   "outputs": [],
   "source": [
    "#Pay Check Calculator\n",
    "\n",
    "#gross_pay = hours*hourly_rate\n",
    "#tax_amount = gross_pay*(tax_rate/100)\n",
    "#take_home_pay = gross_pay - tax_amount\n",
    "\n",
    "tax_rate = 0.18*100 #default tax rounded to percent\n",
    "\n",
    "#float for inputs\n",
    "hours = float(input(\"Hours Worked: \"))\n",
    "hourly_rate = float(input(\"Hourly Pay Rate: \"))\n",
    "\n",
    "def gross_pay(hours, hourly_rate):\n",
    "    gross_pay = hours*hourly_rate\n",
    "    return gross_pay\n",
    "\n",
    "def tax_amount(gross_pay, tax_rate):\n",
    "    tax_amount = gross_pay(hours, hourly_rate)*(tax_rate/100)\n",
    "    return tax_amount\n",
    "\n",
    "def take_home_pay(gross_pay, tax_amount):\n",
    "    take_home_pay = gross_pay(hours, hourly_rate) - tax_amount(gross_pay, tax_rate)\n",
    "    return take_home_pay\n",
    "\n",
    "print(\"Gross Pay: \" , gross_pay(hours, hourly_rate))\n",
    "print(\"Tax Rate: \" , tax_rate , \"%\" )\n",
    "print(\"Tax Amount: \" , tax_amount(gross_pay, tax_rate))\n",
    "print(\"Take Home Pay: \" , take_home_pay(gross_pay, tax_amount))"
   ]
  },
  {
   "cell_type": "code",
   "execution_count": null,
   "metadata": {},
   "outputs": [],
   "source": [
    "#Tip Calculator\n",
    "\n",
    "#all inputs are float\n",
    "cost = float(input(\"Cost of meal: \"))\n",
    "tip_percent = float(input(\"Tip percent: \"))\n",
    "\n",
    "def tip(cost, tip_percent):\n",
    "    tip = cost * (tip_percent / 100) #tip = cost * (tip_percent / 100)\n",
    "    tip = round(tip, 2) #round to 2 places\n",
    "    return tip\n",
    "\n",
    "print(\"Tip amount: \" , tip(cost, tip_percent))\n",
    "print(\"Total amount: \" , cost + tip(cost, tip_percent))"
   ]
  },
  {
   "cell_type": "code",
   "execution_count": null,
   "metadata": {},
   "outputs": [],
   "source": [
    "#Price Comparison\n",
    "\n",
    "#all inputs are float\n",
    "price64 = float(input(\"Price of 64 oz size: \"))\n",
    "price32 = float(input(\"Price of 32 oz size: \"))\n",
    "\n",
    "def ppo_64(price64):\n",
    "    ppo_64 = price64 / 64 #price_p_ounce = price / ounces\n",
    "    ppo_64 = round(ppo_64, 2) #round to 2 places\n",
    "    return ppo_64\n",
    "\n",
    "def ppo_32(price32):\n",
    "    ppo_32 = price32 / 32 #price_p_ounce = price / ounces\n",
    "    ppo_32 = round(ppo_32, 2) #round to 2 places\n",
    "    return ppo_32\n",
    "\n",
    "print(\"Price per oz \"\"(64oz)\"\": \" , ppo_64(price64))\n",
    "print(\"Price per oz \"\"(32oz)\"\": \" , ppo_32(price32)) \n",
    "\n"
   ]
  },
  {
   "cell_type": "code",
   "execution_count": null,
   "metadata": {},
   "outputs": [],
   "source": [
    "#Travel Time Cal\n",
    "\n",
    "miles = int(input(\"Enter miles: \"))\n",
    "mph = int(input(\"Enter miles per hours: \"))\n",
    "\n",
    "hours = miles / mph #get hours traveled\n",
    "rhours = round(hours)\n",
    "\n",
    "#hours decimals places to minutes\n",
    "minutes = (hours - rhours) * 60 #the non-rounded hours minus rounded hours will give minutes\n",
    "rminutes = round(minutes) #round minutes into whole\n",
    "\n",
    "print(\"Estimated travel time \")\n",
    "print(\"Hours: \", rhours )\n",
    "print(\"Minutes: \", rminutes)\n",
    "\n",
    "\n"
   ]
  },
  {
   "cell_type": "code",
   "execution_count": null,
   "metadata": {},
   "outputs": [],
   "source": []
  }
 ],
 "metadata": {
  "kernelspec": {
   "display_name": "Python 3",
   "language": "python",
   "name": "python3"
  },
  "language_info": {
   "codemirror_mode": {
    "name": "ipython",
    "version": 3
   },
   "file_extension": ".py",
   "mimetype": "text/x-python",
   "name": "python",
   "nbconvert_exporter": "python",
   "pygments_lexer": "ipython3",
   "version": "3.7.3"
  }
 },
 "nbformat": 4,
 "nbformat_minor": 4
}
