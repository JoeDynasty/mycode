{
 "cells": [
  {
   "cell_type": "code",
   "execution_count": null,
   "metadata": {},
   "outputs": [],
   "source": [
    "age = 40\n",
    "city = \"Seattle\"\n",
    "state = \"Washington\""
   ]
  },
  {
   "cell_type": "code",
   "execution_count": null,
   "metadata": {},
   "outputs": [],
   "source": [
    "age >= 65 and city == \"Seattle\""
   ]
  },
  {
   "cell_type": "code",
   "execution_count": null,
   "metadata": {},
   "outputs": [],
   "source": [
    "age <= 65 and (city == \"Seattle\" or state == \"Washington\")"
   ]
  },
  {
   "cell_type": "code",
   "execution_count": null,
   "metadata": {},
   "outputs": [],
   "source": [
    "not age >= 65"
   ]
  },
  {
   "cell_type": "code",
   "execution_count": null,
   "metadata": {},
   "outputs": [],
   "source": [
    "name = \"Joe\""
   ]
  },
  {
   "cell_type": "code",
   "execution_count": null,
   "metadata": {},
   "outputs": [],
   "source": [
    "name = name.lower()\n",
    "name"
   ]
  },
  {
   "cell_type": "code",
   "execution_count": null,
   "metadata": {},
   "outputs": [],
   "source": [
    "name = name.upper()\n",
    "name"
   ]
  },
  {
   "cell_type": "code",
   "execution_count": null,
   "metadata": {},
   "outputs": [],
   "source": [
    "name = input(\"enter a name: \")\n",
    "\"apple\" == name.lower()\n"
   ]
  },
  {
   "cell_type": "code",
   "execution_count": null,
   "metadata": {},
   "outputs": [],
   "source": [
    "age = int(input(\"Your age please: \"))\n",
    "\n",
    "if age >= 18:\n",
    "    print(\"yes you can vote\")\n",
    "else: \n",
    "    print(\"sorry, no vote for you\")\n",
    "    "
   ]
  },
  {
   "cell_type": "code",
   "execution_count": null,
   "metadata": {},
   "outputs": [],
   "source": [
    "\n",
    "invoice_total = int(input(\"Enter your invoice amount: \"))\n",
    "\n",
    "if invoice_total >= 500:\n",
    "    discount_percent = 0.2\n",
    "elif invoice_total >= 250:\n",
    "    discount_percent = 0.1\n",
    "else:\n",
    "    print(\"Invoice total must be greater than 0\")"
   ]
  },
  {
   "cell_type": "code",
   "execution_count": 2,
   "metadata": {},
   "outputs": [
    {
     "name": "stdin",
     "output_type": "stream",
     "text": [
      "Enter your test score:  78\n"
     ]
    },
    {
     "name": "stdout",
     "output_type": "stream",
     "text": [
      "Test grade is C\n"
     ]
    }
   ],
   "source": [
    "\n",
    "score = int(input(\"Enter your test score: \"))\n",
    "\n",
    "if 90 <= score <= 100:\n",
    "    print(\"Test grade is A\")\n",
    "elif 80 <= score <= 89:\n",
    "    print(\"Test grade is B\")\n",
    "elif 70 <= score <= 79:\n",
    "    print(\"Test grade is C\")\n",
    "elif 60 <= score <= 69:\n",
    "    print(\"Test grade is D\")\n",
    "elif score <= 59:\n",
    "    print(\"Test grade is F\")\n",
    "else: \n",
    "    print(\"Please put in an actual test score!\")"
   ]
  },
  {
   "cell_type": "code",
   "execution_count": 6,
   "metadata": {},
   "outputs": [
    {
     "name": "stdin",
     "output_type": "stream",
     "text": [
      "Enter your test score:  560\n"
     ]
    },
    {
     "name": "stdout",
     "output_type": "stream",
     "text": [
      "Please put in an actual test score!\n",
      "F\n"
     ]
    }
   ],
   "source": [
    "score = int(input(\"Enter your test score: \"))\n",
    "\n",
    "if score >= 0 and score <= 100:\n",
    "    total_score = score\n",
    "else:\n",
    "    print(\"Please put in an actual test score!\")\n",
    "\n",
    "if 90 <= total_score <= 100:\n",
    "    grade = \"A\"\n",
    "elif 80 <= total_score <= 89:\n",
    "    grade = \"B\"\n",
    "elif 70 <= total_score <= 79:\n",
    "    grade = \"C\"\n",
    "elif 60 <= total_score <= 69:\n",
    "    grade = \"D\"\n",
    "elif total_score <= 59:\n",
    "    grade = \"F\"\n",
    "else: \n",
    "    print(\"Please put in an actual test score!\")\n",
    "\n",
    "print(grade)"
   ]
  },
  {
   "cell_type": "code",
   "execution_count": 10,
   "metadata": {},
   "outputs": [
    {
     "name": "stdin",
     "output_type": "stream",
     "text": [
      "Enter customer type (r/w):  r\n"
     ]
    }
   ],
   "source": [
    "is_valid = True\n",
    "costomer_type = input(\"Enter customer type (r/w): \")\n",
    "if costomer_type == \"r\" or costomer_type == \"w\":\n",
    "    pass \n",
    "else:\n",
    "    print(\"Customer type must bve 'r' or 'w'.\")\n",
    "    is_valid = False\n",
    "    \n",
    "    "
   ]
  },
  {
   "cell_type": "code",
   "execution_count": null,
   "metadata": {},
   "outputs": [],
   "source": [
    "\"\"\"\n",
    "You have retail and wholesale customers (r/w).  If a retail customer, give\n",
    "a 0% discount.  If wholesale, give a 40% discount\n",
    "write out (in English) - how you would code that.  Pseudocode...\n",
    "\n",
    "set cosutmer if r or w, use input costumer type\n",
    "\n",
    "\n",
    "if costumer is r\n",
    "    give 0%\n",
    "\n",
    "elif costumer is w\n",
    "    give 4%\n",
    "\n",
    "else for all other types of costumer\n",
    "\n",
    "\n",
    "\"\"\"\n",
    "\n"
   ]
  },
  {
   "cell_type": "code",
   "execution_count": 12,
   "metadata": {},
   "outputs": [
    {
     "name": "stdin",
     "output_type": "stream",
     "text": [
      "First Name:  Eric\n",
      "Last Name:  Idle\n",
      "Birth Year:  1934\n"
     ]
    },
    {
     "name": "stdout",
     "output_type": "stream",
     "text": [
      "Welcome Eric Idle !\n",
      "Your registration is complete.\n",
      "Your temporarily password is:  Eric*1934\n"
     ]
    }
   ],
   "source": [
    "first_name = input(\"First Name: \")\n",
    "last_name = input(\"Last Name: \")\n",
    "birth = input(\"Birth Year: \")\n",
    "\n",
    "print(\"Welcome\" , first_name , last_name , \"!\")\n",
    "print(\"Your registration is complete.\")\n",
    "print(\"Your temporarily password is: \" , first_name + \"*\" + birth )"
   ]
  },
  {
   "cell_type": "code",
   "execution_count": 22,
   "metadata": {},
   "outputs": [
    {
     "name": "stdin",
     "output_type": "stream",
     "text": [
      "Hours Worked:  35\n",
      "Hourly Pay Rate:  14.5\n"
     ]
    },
    {
     "name": "stdout",
     "output_type": "stream",
     "text": [
      "Gross Pay:  507.5\n",
      "Tax Rate:  18.0 %\n",
      "Tax Amount:  91.35\n",
      "Take Home Pay:  416.15\n"
     ]
    }
   ],
   "source": [
    "#gross_pay = hours*hourly_rate\n",
    "#tax_amount = gross_pay*(tax_rate/100)\n",
    "#take_home_pay = gross_pay - tax_amount\n",
    "\n",
    "tax_rate = 0.18*100\n",
    "#float for inputs\n",
    "\n",
    "\n",
    "hours = float(input(\"Hours Worked: \"))\n",
    "hourly_rate = float(input(\"Hourly Pay Rate: \"))\n",
    "\n",
    "def gross_pay(hours, hourly_rate):\n",
    "    gross_pay = hours*hourly_rate\n",
    "    return gross_pay\n",
    "\n",
    "def tax_amount(gross_pay, tax_rate):\n",
    "    tax_amount = gross_pay(hours, hourly_rate)*(tax_rate/100)\n",
    "    return tax_amount\n",
    "\n",
    "def take_home_pay(gross_pay, tax_amount):\n",
    "    take_home_pay = gross_pay(hours, hourly_rate) - tax_amount(gross_pay, tax_rate)\n",
    "    return take_home_pay\n",
    "\n",
    "print(\"Gross Pay: \" , gross_pay(hours, hourly_rate))\n",
    "print(\"Tax Rate: \" , tax_rate , \"%\" )\n",
    "print(\"Tax Amount: \" , tax_amount(gross_pay, tax_rate))\n",
    "print(\"Take Home Pay: \" , take_home_pay(gross_pay, tax_amount))\n",
    "\n"
   ]
  },
  {
   "cell_type": "code",
   "execution_count": 6,
   "metadata": {},
   "outputs": [
    {
     "name": "stdin",
     "output_type": "stream",
     "text": [
      "Cost of meal:  52.31\n",
      "Tip percent:  20\n"
     ]
    },
    {
     "name": "stdout",
     "output_type": "stream",
     "text": [
      "Tip amount:  10.46\n",
      "Total amount:  62.77\n"
     ]
    }
   ],
   "source": [
    "#tip = cost * (tip_percent / 100)\n",
    "\n",
    "#all input is float\n",
    "\n",
    "cost = float(input(\"Cost of meal: \"))\n",
    "tip_percent = float(input(\"Tip percent: \"))\n",
    "\n",
    "def tip(cost, tip_percent):\n",
    "    tip = cost * (tip_percent / 100)\n",
    "    tip = round(tip, 2)\n",
    "    return tip\n",
    "\n",
    "print(\"Tip amount: \" , tip(cost, tip_percent))\n",
    "print(\"Total amount: \" , cost + tip(cost, tip_percent))"
   ]
  },
  {
   "cell_type": "code",
   "execution_count": 8,
   "metadata": {},
   "outputs": [
    {
     "name": "stdin",
     "output_type": "stream",
     "text": [
      "Price of 64 oz size:  5.99\n",
      "Price of 32 oz size:  3.50\n"
     ]
    },
    {
     "name": "stdout",
     "output_type": "stream",
     "text": [
      "Price per oz (64oz):  0.09\n",
      "Price per oz (32oz):  0.11\n"
     ]
    }
   ],
   "source": [
    "#price_p_ounce = price / ounces\n",
    "\n",
    "price64 = float(input(\"Price of 64 oz size: \"))\n",
    "price32 = float(input(\"Price of 32 oz size: \"))\n",
    "\n",
    "def ppo_64(price64):\n",
    "    ppo_64 = price64 / 64\n",
    "    ppo_64 = round(ppo_64, 2)\n",
    "    return ppo_64\n",
    "\n",
    "def ppo_32(price32):\n",
    "    ppo_32 = price32 / 32\n",
    "    ppo_32 = round(ppo_32, 2)\n",
    "    return ppo_32\n",
    "\n",
    "print(\"Price per oz \"\"(64oz)\"\": \" , ppo_64(price64))\n",
    "print(\"Price per oz \"\"(32oz)\"\": \" , ppo_32(price32)) \n"
   ]
  },
  {
   "cell_type": "code",
   "execution_count": 9,
   "metadata": {},
   "outputs": [
    {
     "name": "stdin",
     "output_type": "stream",
     "text": [
      "Enter miles:  200\n",
      "Enter miles per hours:  65\n"
     ]
    },
    {
     "name": "stdout",
     "output_type": "stream",
     "text": [
      "Estimated travel time \n",
      "Hours:  3\n",
      "Minutes:  5\n"
     ]
    }
   ],
   "source": [
    "#Travel Time Cal\n",
    "\n",
    "miles = int(input(\"Enter miles: \"))\n",
    "mph = int(input(\"Enter miles per hours: \"))\n",
    "\n",
    "hours = miles / mph\n",
    "rhours = round(hours)\n",
    "\n",
    "#hours decimals places to minutes\n",
    "\n",
    "minutes = (hours - rhours) * 60 \n",
    "rminutes = round(minutes)\n",
    "\n",
    "print(\"Estimated travel time \")\n",
    "print(\"Hours: \", rhours )\n",
    "print(\"Minutes: \", rminutes)\n",
    "\n"
   ]
  },
  {
   "cell_type": "code",
   "execution_count": 11,
   "metadata": {},
   "outputs": [
    {
     "data": {
      "text/plain": [
       "3.96"
      ]
     },
     "execution_count": 11,
     "metadata": {},
     "output_type": "execute_result"
    }
   ],
   "source": [
    "99/25"
   ]
  },
  {
   "cell_type": "code",
   "execution_count": 13,
   "metadata": {},
   "outputs": [
    {
     "name": "stdin",
     "output_type": "stream",
     "text": [
      "Please enter an amount between 0-99: 99\n"
     ]
    },
    {
     "name": "stdout",
     "output_type": "stream",
     "text": [
      "3 quarters\n",
      "2 dimes\n",
      "0 nickles\n",
      "4 pennies\n"
     ]
    }
   ],
   "source": [
    "c=int(input('Please enter an amount between 0-99:'))\n",
    "print(c//25, \"quarters\")\n",
    "c = c%25\n",
    "print(c//10, \"dimes\")\n",
    "c = c%10\n",
    "print(c//5, \"nickles\")\n",
    "c = c%5\n",
    "print(c//1, \"pennies\")"
   ]
  },
  {
   "cell_type": "code",
   "execution_count": 14,
   "metadata": {},
   "outputs": [
    {
     "data": {
      "text/plain": [
       "list"
      ]
     },
     "execution_count": 14,
     "metadata": {},
     "output_type": "execute_result"
    }
   ],
   "source": [
    "names = [\"Ernesto\", \"Lee\"]\n",
    "type(names)"
   ]
  },
  {
   "cell_type": "code",
   "execution_count": 15,
   "metadata": {},
   "outputs": [],
   "source": [
    "#tuples are created with ()\n",
    "items = (-6, 'cat', (1, 2))"
   ]
  },
  {
   "cell_type": "code",
   "execution_count": 17,
   "metadata": {},
   "outputs": [
    {
     "data": {
      "text/plain": [
       "(-6, 'cat', (1, 2))"
      ]
     },
     "execution_count": 17,
     "metadata": {},
     "output_type": "execute_result"
    }
   ],
   "source": [
    "items\n"
   ]
  },
  {
   "cell_type": "code",
   "execution_count": 18,
   "metadata": {},
   "outputs": [
    {
     "data": {
      "text/plain": [
       "3"
      ]
     },
     "execution_count": 18,
     "metadata": {},
     "output_type": "execute_result"
    }
   ],
   "source": [
    "len(items)\n"
   ]
  },
  {
   "cell_type": "code",
   "execution_count": 19,
   "metadata": {},
   "outputs": [
    {
     "data": {
      "text/plain": [
       "(1, 2)"
      ]
     },
     "execution_count": 19,
     "metadata": {},
     "output_type": "execute_result"
    }
   ],
   "source": [
    "items[-1]"
   ]
  },
  {
   "cell_type": "code",
   "execution_count": 20,
   "metadata": {},
   "outputs": [
    {
     "data": {
      "text/plain": [
       "-6"
      ]
     },
     "execution_count": 20,
     "metadata": {},
     "output_type": "execute_result"
    }
   ],
   "source": [
    "items[0]"
   ]
  },
  {
   "cell_type": "code",
   "execution_count": 21,
   "metadata": {},
   "outputs": [
    {
     "data": {
      "text/plain": [
       "-6"
      ]
     },
     "execution_count": 21,
     "metadata": {},
     "output_type": "execute_result"
    }
   ],
   "source": [
    "items[-3]"
   ]
  },
  {
   "cell_type": "code",
   "execution_count": 25,
   "metadata": {},
   "outputs": [
    {
     "data": {
      "text/plain": [
       "tuple"
      ]
     },
     "execution_count": 25,
     "metadata": {},
     "output_type": "execute_result"
    }
   ],
   "source": [
    "type((5, \"cat\"))"
   ]
  },
  {
   "cell_type": "code",
   "execution_count": 29,
   "metadata": {},
   "outputs": [
    {
     "data": {
      "text/plain": [
       "(6, 7, 21, 77)"
      ]
     },
     "execution_count": 29,
     "metadata": {},
     "output_type": "execute_result"
    }
   ],
   "source": [
    "lucky = (6, 7, 21, 77)\n",
    "lucky"
   ]
  },
  {
   "cell_type": "code",
   "execution_count": 30,
   "metadata": {},
   "outputs": [
    {
     "data": {
      "text/plain": [
       "(7, 21, 77)"
      ]
     },
     "execution_count": 30,
     "metadata": {},
     "output_type": "execute_result"
    }
   ],
   "source": [
    "lucky2 = lucky[1:]\n",
    "lucky2"
   ]
  },
  {
   "cell_type": "code",
   "execution_count": 32,
   "metadata": {},
   "outputs": [
    {
     "data": {
      "text/plain": [
       "('dog', 'cat', 'bird', 'dog')"
      ]
     },
     "execution_count": 32,
     "metadata": {},
     "output_type": "execute_result"
    }
   ],
   "source": [
    "pets = ('dog', 'cat', 'bird', 'dog')\n",
    "pets"
   ]
  },
  {
   "cell_type": "code",
   "execution_count": 33,
   "metadata": {},
   "outputs": [
    {
     "data": {
      "text/plain": [
       "True"
      ]
     },
     "execution_count": 33,
     "metadata": {},
     "output_type": "execute_result"
    }
   ],
   "source": [
    "'bird' in pets"
   ]
  },
  {
   "cell_type": "code",
   "execution_count": 34,
   "metadata": {},
   "outputs": [
    {
     "data": {
      "text/plain": [
       "4"
      ]
     },
     "execution_count": 34,
     "metadata": {},
     "output_type": "execute_result"
    }
   ],
   "source": [
    "len(pets)"
   ]
  },
  {
   "cell_type": "code",
   "execution_count": 35,
   "metadata": {},
   "outputs": [
    {
     "data": {
      "text/plain": [
       "2"
      ]
     },
     "execution_count": 35,
     "metadata": {},
     "output_type": "execute_result"
    }
   ],
   "source": [
    "pets.count('dog')"
   ]
  },
  {
   "cell_type": "code",
   "execution_count": 37,
   "metadata": {},
   "outputs": [
    {
     "data": {
      "text/plain": [
       "(4, 5, 6, 1, 2, 3)"
      ]
     },
     "execution_count": 37,
     "metadata": {},
     "output_type": "execute_result"
    }
   ],
   "source": [
    "tup1 = (1, 2, 3)\n",
    "tup2 = (4, 5, 6)\n",
    "tup2 + tup1\n"
   ]
  },
  {
   "cell_type": "code",
   "execution_count": 38,
   "metadata": {},
   "outputs": [
    {
     "data": {
      "text/plain": [
       "(1, 2, 3, 1, 2, 3)"
      ]
     },
     "execution_count": 38,
     "metadata": {},
     "output_type": "execute_result"
    }
   ],
   "source": [
    "tup1*2"
   ]
  },
  {
   "cell_type": "code",
   "execution_count": 42,
   "metadata": {},
   "outputs": [
    {
     "data": {
      "text/plain": [
       "6"
      ]
     },
     "execution_count": 42,
     "metadata": {},
     "output_type": "execute_result"
    }
   ],
   "source": [
    "x = tup1[2]\n",
    "x*2"
   ]
  },
  {
   "cell_type": "code",
   "execution_count": 47,
   "metadata": {},
   "outputs": [
    {
     "data": {
      "text/plain": [
       "[7, -7, 2, 3, 2]"
      ]
     },
     "execution_count": 47,
     "metadata": {},
     "output_type": "execute_result"
    }
   ],
   "source": [
    "#list\n",
    "numbers = [7, -7, 2, 3, 2]\n",
    "numbers"
   ]
  },
  {
   "cell_type": "code",
   "execution_count": 48,
   "metadata": {},
   "outputs": [
    {
     "data": {
      "text/plain": [
       "5"
      ]
     },
     "execution_count": 48,
     "metadata": {},
     "output_type": "execute_result"
    }
   ],
   "source": [
    "len(numbers)"
   ]
  },
  {
   "cell_type": "code",
   "execution_count": 49,
   "metadata": {},
   "outputs": [
    {
     "data": {
      "text/plain": [
       "('x', 21, 'dog', 'cat')"
      ]
     },
     "execution_count": 49,
     "metadata": {},
     "output_type": "execute_result"
    }
   ],
   "source": [
    "#my tuple\n",
    "mytuple = ('x', 21, 'dog', 'cat')\n",
    "mytuple"
   ]
  },
  {
   "cell_type": "code",
   "execution_count": 53,
   "metadata": {},
   "outputs": [
    {
     "data": {
      "text/plain": [
       "[7, -7, 2, 3, 2, 21, 21]"
      ]
     },
     "execution_count": 53,
     "metadata": {},
     "output_type": "execute_result"
    }
   ],
   "source": [
    "numbers.append(21)\n",
    "numbers"
   ]
  },
  {
   "cell_type": "code",
   "execution_count": 55,
   "metadata": {},
   "outputs": [
    {
     "data": {
      "text/plain": [
       "[3, (1,), 'dog', 'cat']"
      ]
     },
     "execution_count": 55,
     "metadata": {},
     "output_type": "execute_result"
    }
   ],
   "source": [
    "lst = [3, (1, ), 'dog', 'cat']\n",
    "lst"
   ]
  },
  {
   "cell_type": "code",
   "execution_count": 56,
   "metadata": {},
   "outputs": [
    {
     "data": {
      "text/plain": [
       "[(1,), 'dog']"
      ]
     },
     "execution_count": 56,
     "metadata": {},
     "output_type": "execute_result"
    }
   ],
   "source": [
    "lst[1:3]"
   ]
  },
  {
   "cell_type": "code",
   "execution_count": 57,
   "metadata": {},
   "outputs": [
    {
     "data": {
      "text/plain": [
       "['frog', 'dog', 'cow', 'hamster']"
      ]
     },
     "execution_count": 57,
     "metadata": {},
     "output_type": "execute_result"
    }
   ],
   "source": [
    "pets = ['frog', 'dog', 'cow', 'hamster']\n",
    "pets"
   ]
  },
  {
   "cell_type": "code",
   "execution_count": 58,
   "metadata": {},
   "outputs": [],
   "source": [
    "pets[2] = 'cat'"
   ]
  },
  {
   "cell_type": "code",
   "execution_count": 59,
   "metadata": {},
   "outputs": [
    {
     "data": {
      "text/plain": [
       "['frog', 'dog', 'cat', 'hamster']"
      ]
     },
     "execution_count": 59,
     "metadata": {},
     "output_type": "execute_result"
    }
   ],
   "source": [
    "pets"
   ]
  },
  {
   "cell_type": "code",
   "execution_count": 60,
   "metadata": {},
   "outputs": [
    {
     "data": {
      "text/plain": [
       "['dog', 'cat', 'hamster']"
      ]
     },
     "execution_count": 60,
     "metadata": {},
     "output_type": "execute_result"
    }
   ],
   "source": [
    "pets.remove('frog')\n",
    "pets"
   ]
  },
  {
   "cell_type": "code",
   "execution_count": 63,
   "metadata": {},
   "outputs": [
    {
     "data": {
      "text/plain": [
       "['dog', 'cat', 'hamster', 'dog']"
      ]
     },
     "execution_count": 63,
     "metadata": {},
     "output_type": "execute_result"
    }
   ],
   "source": [
    "pets.append('dog')\n",
    "pets"
   ]
  },
  {
   "cell_type": "code",
   "execution_count": 64,
   "metadata": {},
   "outputs": [
    {
     "data": {
      "text/plain": [
       "2"
      ]
     },
     "execution_count": 64,
     "metadata": {},
     "output_type": "execute_result"
    }
   ],
   "source": [
    "pets.count('dog')"
   ]
  },
  {
   "cell_type": "code",
   "execution_count": 66,
   "metadata": {},
   "outputs": [
    {
     "data": {
      "text/plain": [
       "['dog', 'cat', 'hamster', 'dog']"
      ]
     },
     "execution_count": 66,
     "metadata": {},
     "output_type": "execute_result"
    }
   ],
   "source": [
    "lst = ['fish', 'hog']\n",
    "lst\n",
    "pets"
   ]
  },
  {
   "cell_type": "code",
   "execution_count": 68,
   "metadata": {},
   "outputs": [
    {
     "data": {
      "text/plain": [
       "['dog', 'cat', 'hamster', 'dog', 'fish', 'hog', 'fish', 'hog']"
      ]
     },
     "execution_count": 68,
     "metadata": {},
     "output_type": "execute_result"
    }
   ],
   "source": [
    "pets.extend(lst)\n",
    "pets"
   ]
  },
  {
   "cell_type": "code",
   "execution_count": 69,
   "metadata": {},
   "outputs": [],
   "source": [
    "pets.insert(4, 'goldfish')"
   ]
  },
  {
   "cell_type": "code",
   "execution_count": 70,
   "metadata": {},
   "outputs": [
    {
     "data": {
      "text/plain": [
       "['dog', 'cat', 'hamster', 'dog', 'goldfish', 'fish', 'hog', 'fish', 'hog']"
      ]
     },
     "execution_count": 70,
     "metadata": {},
     "output_type": "execute_result"
    }
   ],
   "source": [
    "pets"
   ]
  },
  {
   "cell_type": "code",
   "execution_count": 74,
   "metadata": {},
   "outputs": [
    {
     "data": {
      "text/plain": [
       "'goldfish'"
      ]
     },
     "execution_count": 74,
     "metadata": {},
     "output_type": "execute_result"
    }
   ],
   "source": [
    "pets = ['dog', 'cat', 'hamster', 'dog', 'goldfish', 'fish', 'hog', 'fish', 'hog']\n",
    "pet = pets.pop(4)\n",
    "pet"
   ]
  },
  {
   "cell_type": "code",
   "execution_count": 75,
   "metadata": {},
   "outputs": [
    {
     "data": {
      "text/plain": [
       "[1, 2, 3]"
      ]
     },
     "execution_count": 75,
     "metadata": {},
     "output_type": "execute_result"
    }
   ],
   "source": [
    "snake = [1, 2, 3]\n",
    "snake"
   ]
  },
  {
   "cell_type": "code",
   "execution_count": 76,
   "metadata": {},
   "outputs": [],
   "source": [
    "snake[1] = snake"
   ]
  },
  {
   "cell_type": "code",
   "execution_count": 77,
   "metadata": {},
   "outputs": [
    {
     "data": {
      "text/plain": [
       "[1, [...], 3]"
      ]
     },
     "execution_count": 77,
     "metadata": {},
     "output_type": "execute_result"
    }
   ],
   "source": [
    "snake"
   ]
  },
  {
   "cell_type": "code",
   "execution_count": 97,
   "metadata": {},
   "outputs": [],
   "source": [
    "#loop list \n",
    "\n",
    "def numnote(lst):\n",
    "    msg = []\n",
    "    for i in lst:\n",
    "        if i < 0:\n",
    "            s = str(i) + ' is negative'\n",
    "        elif 0 <= i <= 100 :\n",
    "            s = str(i) + ' is positive'\n",
    "        msg.append(s)\n",
    "    return msg\n"
   ]
  },
  {
   "cell_type": "code",
   "execution_count": 98,
   "metadata": {},
   "outputs": [
    {
     "data": {
      "text/plain": [
       "['1 is positive', '5 is positive', '-6 is negative', '22 is positive']"
      ]
     },
     "execution_count": 98,
     "metadata": {},
     "output_type": "execute_result"
    }
   ],
   "source": [
    "my_list = [1, 5, -6, 22]\n",
    "numnote(my_list)"
   ]
  },
  {
   "cell_type": "code",
   "execution_count": 99,
   "metadata": {},
   "outputs": [
    {
     "name": "stdout",
     "output_type": "stream",
     "text": [
      "1 is positive\n",
      "5 is positive\n",
      "-6 is negative\n",
      "22 is positive\n"
     ]
    }
   ],
   "source": [
    "for msg in numnote(my_list):\n",
    "    print(msg)"
   ]
  },
  {
   "cell_type": "code",
   "execution_count": 103,
   "metadata": {},
   "outputs": [
    {
     "name": "stdout",
     "output_type": "stream",
     "text": [
      "before the sort: [1, 5, -6, 22]\n"
     ]
    },
    {
     "data": {
      "text/plain": [
       "[-6, 1, 5, 22]"
      ]
     },
     "execution_count": 103,
     "metadata": {},
     "output_type": "execute_result"
    }
   ],
   "source": [
    "print(\"before the sort: \" + str(my_list))\n",
    "my_list.sort()\n",
    "my_list\n"
   ]
  },
  {
   "cell_type": "code",
   "execution_count": 100,
   "metadata": {},
   "outputs": [
    {
     "data": {
      "text/plain": [
       "['up', 'down', 'cat', 'dog']"
      ]
     },
     "execution_count": 100,
     "metadata": {},
     "output_type": "execute_result"
    }
   ],
   "source": [
    "lst = ['up', 'down', 'cat', 'dog']\n",
    "lst"
   ]
  },
  {
   "cell_type": "code",
   "execution_count": 101,
   "metadata": {},
   "outputs": [
    {
     "data": {
      "text/plain": [
       "['cat', 'dog', 'down', 'up']"
      ]
     },
     "execution_count": 101,
     "metadata": {},
     "output_type": "execute_result"
    }
   ],
   "source": [
    "lst.sort()\n",
    "lst"
   ]
  },
  {
   "cell_type": "code",
   "execution_count": 96,
   "metadata": {},
   "outputs": [
    {
     "data": {
      "text/plain": [
       "['up', 'down', 'dog', 'cat']"
      ]
     },
     "execution_count": 96,
     "metadata": {},
     "output_type": "execute_result"
    }
   ],
   "source": [
    "lst.reverse()\n",
    "lst"
   ]
  },
  {
   "cell_type": "code",
   "execution_count": null,
   "metadata": {},
   "outputs": [],
   "source": []
  },
  {
   "cell_type": "code",
   "execution_count": null,
   "metadata": {},
   "outputs": [],
   "source": []
  },
  {
   "cell_type": "code",
   "execution_count": null,
   "metadata": {},
   "outputs": [],
   "source": []
  }
 ],
 "metadata": {
  "kernelspec": {
   "display_name": "Python 3",
   "language": "python",
   "name": "python3"
  },
  "language_info": {
   "codemirror_mode": {
    "name": "ipython",
    "version": 3
   },
   "file_extension": ".py",
   "mimetype": "text/x-python",
   "name": "python",
   "nbconvert_exporter": "python",
   "pygments_lexer": "ipython3",
   "version": "3.7.3"
  }
 },
 "nbformat": 4,
 "nbformat_minor": 4
}
