{
 "cells": [
  {
   "cell_type": "code",
   "execution_count": 63,
   "metadata": {},
   "outputs": [
    {
     "name": "stdin",
     "output_type": "stream",
     "text": [
      "Enter your annual salary:  120000\n",
      "Enter the percent of your salary to save, as decimal:  0.1\n",
      "Enter the cost of your dream home:  1000000\n"
     ]
    },
    {
     "name": "stdout",
     "output_type": "stream",
     "text": [
      "Number of months:  183\n"
     ]
    }
   ],
   "source": [
    "#Housing def\n",
    "\n",
    "annual_salary = float(input(\"Enter your annual salary: \"))\n",
    "portion_saved = float(input(\"Enter the percent of your salary to save, as decimal: \")) #for example 0.25\n",
    "total_cost = float(input(\"Enter the cost of your dream home: \"))\n",
    "current_savings = 0\n",
    "\n",
    "#i = current_savings * r / 12\n",
    "#x = Annual_salary / 12 * Portion_saved\n",
    "#current_savings = i * Total_cost * Portion_down_payment\n",
    "\n",
    "\n",
    "\n",
    "def house_hunting(annual_salary, portion_saved, total_cost):\n",
    "    portion_down_payment = 0.25\n",
    "    r = 0.04\n",
    "    current_savings = 0\n",
    "    month = 0\n",
    "    monthly_rate = r/12\n",
    "    i=0\n",
    "    annual_savings = annual_salary * portion_saved\n",
    "    portion_down_payment = portion_down_payment * total_cost #intrest_amount = (Monthly_rate * Monthly)\n",
    "    \n",
    "                                                            #Monthly_savings = intrest_amount + Monthly\n",
    "    month = portion_down_payment / annual_savings\n",
    "    monthly = annual_savings / 12\n",
    "\n",
    "    while current_savings < portion_down_payment:\n",
    "        current_savings += (current_savings * monthly_rate) + monthly\n",
    "        i += 1\n",
    "    return i\n",
    "    \n",
    "\n",
    "print(\"Number of months: \" , house_hunting(annual_salary, portion_saved, total_cost))"
   ]
  },
  {
   "cell_type": "code",
   "execution_count": 33,
   "metadata": {},
   "outputs": [
    {
     "name": "stdout",
     "output_type": "stream",
     "text": [
      "Total profit: 60\n",
      "shirt%:  6.0\n",
      "shoes%:  12.0\n",
      "shorts%:  18.0\n",
      "shorts made the most profits\n"
     ]
    }
   ],
   "source": [
    "#Retail Example\n",
    "\n",
    "total_profit = 0\n",
    "profit_percentage = 0\n",
    "\n",
    "def calculate_profit(total_sales, total_cost):\n",
    "    global profit\n",
    "    profit = total_sales - total_cost\n",
    "    return profit\n",
    "\n",
    "\n",
    "\n",
    "#catagories \n",
    "\n",
    "shirt_total_profit = calculate_profit(20, 10)\n",
    "shoes_total_profit = calculate_profit(30, 10)\n",
    "shorts_total_profit = calculate_profit(40, 10)\n",
    "total_profit = shirt_total_profit + shoes_total_profit + shorts_total_profit\n",
    "\n",
    "\n",
    "def calculate_profit_percentage():\n",
    "    shirt_percentage = total_profit * shirt_total_profit / 100\n",
    "    shoes_percentage = total_profit * shoes_total_profit / 100\n",
    "    shorts_percentage = total_profit * shorts_total_profit / 100\n",
    "    print(\"shirt%: \" , shirt_percentage)\n",
    "    print(\"shoes%: \" , shoes_percentage)\n",
    "    print(\"shorts%: \" , shorts_percentage)\n",
    "    \n",
    "    if shirt_percentage > shoes_percentage and shirt_percentage > shorts_percentage :\n",
    "        print(\"shirt made the most profits\")\n",
    "    elif shoes_percentage > shirt_percentage and shoes_percentage > shorts_percentage :\n",
    "        print(\"shoes made the most profits\") \n",
    "    else :\n",
    "        print(\"shorts made the most profits\")\n",
    "        \n",
    "\n",
    "    \n",
    "print(\"Total profit:\" , total_profit)\n",
    "calculate_profit_percentage()"
   ]
  },
  {
   "cell_type": "code",
   "execution_count": 62,
   "metadata": {},
   "outputs": [
    {
     "ename": "SyntaxError",
     "evalue": "invalid syntax (<ipython-input-62-80c033e237f6>, line 2)",
     "output_type": "error",
     "traceback": [
      "\u001b[0;36m  File \u001b[0;32m\"<ipython-input-62-80c033e237f6>\"\u001b[0;36m, line \u001b[0;32m2\u001b[0m\n\u001b[0;31m    def calculate_average_temperature(monthly_temperature[i]):\u001b[0m\n\u001b[0m                                                         ^\u001b[0m\n\u001b[0;31mSyntaxError\u001b[0m\u001b[0;31m:\u001b[0m invalid syntax\n"
     ]
    }
   ],
   "source": [
    "#Weather Example 1\n",
    "\n",
    "January_temperature = [9, 15, 5]\n",
    "def calculate_average_temperature(monthly_temperature[i]):\n",
    "    for i in monthly_temperature(0, 3):\n",
    "        total_monthly_temperature += monthly_temperature [i]\n",
    "        average_monthly_temperature = total_monthly_temperature / 12\n",
    "        return average_monthly_temperature\n",
    "\n",
    "calculate_average_temperature(January_temperature)"
   ]
  },
  {
   "cell_type": "code",
   "execution_count": null,
   "metadata": {},
   "outputs": [],
   "source": [
    "#Weather Example 2\n",
    "\n",
    "average_temperature = []\n",
    "\n",
    "def calculate_average_temperature(monthly_temperature):\n",
    "    average_temperature = len(monthly_temperature)"
   ]
  }
 ],
 "metadata": {
  "kernelspec": {
   "display_name": "Python 3",
   "language": "python",
   "name": "python3"
  },
  "language_info": {
   "codemirror_mode": {
    "name": "ipython",
    "version": 3
   },
   "file_extension": ".py",
   "mimetype": "text/x-python",
   "name": "python",
   "nbconvert_exporter": "python",
   "pygments_lexer": "ipython3",
   "version": "3.7.3"
  }
 },
 "nbformat": 4,
 "nbformat_minor": 4
}
