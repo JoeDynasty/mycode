{
 "cells": [
  {
   "cell_type": "code",
   "execution_count": null,
   "metadata": {},
   "outputs": [],
   "source": [
    "#PART B\n",
    "\n",
    "Annual_salary = float(input(\"Enter your annual salary: \"))\n",
    "Portion_saved = float(input(\"Enter the percent of your salary to save, as decimal: \")) #for example 0.25\n",
    "Total_cost = float(input(\"Enter the cost of your dream home: \"))\n",
    "semi_raise = float(input(\"Enter the semi-annual raise, as a decimal: \"))\n",
    "r = 0.04\n",
    "current_savings = 0\n",
    "month = 0\n",
    "Portion_down_payment = 0.25\n",
    "Monthly_rate = r/12\n",
    "\n",
    "#i = current_savings * r / 12\n",
    "#x = Annual_salary / 12 * Portion_saved\n",
    "#current_savings = i * Total_cost * Portion_down_payment\n",
    "\n",
    "i=0\n",
    "\n",
    "Annual_savings = Annual_salary * Portion_saved\n",
    "Portion_down_payment = Portion_down_payment * Total_cost\n",
    "\n",
    "month = Portion_down_payment / Annual_savings\n",
    "Monthly = Annual_savings / 12\n",
    "\n",
    "\n",
    "#intrest_amount = (Monthly_rate * Monthly)\n",
    "#Monthly_savings = intrest_amount + Monthly\n",
    "\n",
    "while current_savings < Portion_down_payment:\n",
    "    current_savings += (current_savings * Monthly_rate) + Monthly\n",
    "    i = i + 1\n",
    "    if i % 6 == 0:\n",
    "        Annual_salary = semi_raise * current_savings\n",
    "    \n",
    "        #annual_salary = (semi_annual_raise * annual_salary)+ annual_salary\n",
    "        #monthly_salary = annual_salary / 12\n",
    "\n",
    "\n",
    "print(\"Number of months: \" + str(i))\n",
    "\n"
   ]
  },
  {
   "cell_type": "code",
   "execution_count": null,
   "metadata": {},
   "outputs": [],
   "source": []
  }
 ],
 "metadata": {
  "kernelspec": {
   "display_name": "Python 3",
   "language": "python",
   "name": "python3"
  },
  "language_info": {
   "codemirror_mode": {
    "name": "ipython",
    "version": 3
   },
   "file_extension": ".py",
   "mimetype": "text/x-python",
   "name": "python",
   "nbconvert_exporter": "python",
   "pygments_lexer": "ipython3",
   "version": "3.7.3"
  }
 },
 "nbformat": 4,
 "nbformat_minor": 4
}
