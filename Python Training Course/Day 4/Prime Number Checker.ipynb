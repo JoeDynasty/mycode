{
 "cells": [
  {
   "cell_type": "code",
   "execution_count": 30,
   "metadata": {},
   "outputs": [
    {
     "data": {
      "text/plain": [
       "0"
      ]
     },
     "execution_count": 30,
     "metadata": {},
     "output_type": "execute_result"
    }
   ],
   "source": [
    "\n",
    "def factorials_list(n):\n",
    "    i = n % n and n % 1\n",
    "    return i\n",
    "\n",
    "factorials_list(6)\n",
    "\n"
   ]
  },
  {
   "cell_type": "code",
   "execution_count": 90,
   "metadata": {},
   "outputs": [
    {
     "name": "stdin",
     "output_type": "stream",
     "text": [
      "type a number from 1-5000:  6\n"
     ]
    },
    {
     "name": "stdout",
     "output_type": "stream",
     "text": [
      "6 is NOT a prime number\n",
      "Number of factorials: 4\n",
      "[1, 2, 3, 6]\n"
     ]
    },
    {
     "name": "stdin",
     "output_type": "stream",
     "text": [
      "Try again? (y/n):  y\n",
      "type a number from 1-5000:  200\n"
     ]
    },
    {
     "name": "stdout",
     "output_type": "stream",
     "text": [
      "200 is a prime number.\n",
      "\n"
     ]
    },
    {
     "name": "stdin",
     "output_type": "stream",
     "text": [
      "Try again? (y/n):  n\n"
     ]
    },
    {
     "name": "stdout",
     "output_type": "stream",
     "text": [
      "Bye!\n"
     ]
    }
   ],
   "source": [
    "\n",
    "def is_prime():\n",
    "    factorials_list =[]\n",
    "    number = int(input(\"type a number from 1-5000: \"))\n",
    "    if number > 1:  \n",
    "        for n in range(2,number):  \n",
    "            if (number % n) != 0:  \n",
    "                print(number, \"is a prime number.\")\n",
    "                print()\n",
    "                choice = input(\"Try again? (y/n): \")\n",
    "                if choice == \"n\":\n",
    "                    print(\"Bye!\")\n",
    "                    break\n",
    "                else:\n",
    "                    number = int(input(\"type a number from 1-5000: \"))\n",
    "            else:\n",
    "                print(number, \"is NOT a prime number\")\n",
    "                if number > 1:  \n",
    "                    factorials_list.append(1)\n",
    "                    for n in range(2,number):\n",
    "                        if (number % n) != 0:\n",
    "                            pass\n",
    "                        else:\n",
    "                            factorials_list.append(n)         \n",
    "                factorials_list.append(number)\n",
    "                print(\"Number of factorials: \" + str(len(factorials_list)))\n",
    "                print(factorials_list)\n",
    "        \n",
    "                choice = input(\"Try again? (y/n): \")\n",
    "                if choice == \"n\":\n",
    "                    print(\"Bye!\")\n",
    "                    break\n",
    "                else:\n",
    "                    number = int(input(\"type a number from 1-5000: \"))\n",
    "    elif number < 1 or number > 5000: \n",
    "        print (\"invalid number, please run again.\")\n",
    "        \n",
    "\n",
    "is_prime()\n"
   ]
  },
  {
   "cell_type": "code",
   "execution_count": 71,
   "metadata": {},
   "outputs": [
    {
     "name": "stdin",
     "output_type": "stream",
     "text": [
      "type a number from 1-5000:  6\n"
     ]
    },
    {
     "name": "stdout",
     "output_type": "stream",
     "text": [
      "Number of factorials: 8\n",
      "[1, 2, 3, 6, 1, 2, 3, 6]\n"
     ]
    }
   ],
   "source": [
    "\n",
    "factorials_list =[]\n",
    "     \n",
    "def validate_number():\n",
    "    \n",
    "    if number < 1 or number > 5000:\n",
    "        print('invalid')\n",
    "\n",
    "def is_prime():\n",
    "    number = int(input(\"type a number from 1-5000: \"))\n",
    "    if number > 1:  \n",
    "        factorials_list.append(1)\n",
    "        for n in range(2,number):\n",
    "            if (number % n) != 0:\n",
    "                pass\n",
    "            else:\n",
    "                \n",
    "                factorials_list.append(n)         \n",
    "                \n",
    "    factorials_list.append(number)\n",
    "      \n",
    "            \n",
    "validate_number()\n",
    "is_prime()\n",
    "print(\"Number of factorials: \" + str(len(factorials_list)))\n",
    "print(factorials_list)\n"
   ]
  },
  {
   "cell_type": "code",
   "execution_count": null,
   "metadata": {},
   "outputs": [],
   "source": []
  }
 ],
 "metadata": {
  "kernelspec": {
   "display_name": "Python 3",
   "language": "python",
   "name": "python3"
  },
  "language_info": {
   "codemirror_mode": {
    "name": "ipython",
    "version": 3
   },
   "file_extension": ".py",
   "mimetype": "text/x-python",
   "name": "python",
   "nbconvert_exporter": "python",
   "pygments_lexer": "ipython3",
   "version": "3.7.3"
  }
 },
 "nbformat": 4,
 "nbformat_minor": 4
}
