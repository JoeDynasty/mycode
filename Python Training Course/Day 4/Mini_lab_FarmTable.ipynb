{
 "cells": [
  {
   "cell_type": "code",
   "execution_count": null,
   "metadata": {},
   "outputs": [],
   "source": [
    "\"\"\"\n",
    "fruits = [\"apple\", \"orange\", \"banana\"]\n",
    "\n",
    "vegatables = [\"tomatoes\", \"carrots\", \"kale\"]\n",
    "\n",
    "dishes = [[\"tomato soup\", \"tomatoes\"], [\"carrot juice\", \"carrots\"]] #nested list\n",
    "\n",
    "enumerate()\n",
    "\n",
    "for index, dishes in enumerate(dishes):\n",
    "    print(index, dishes)\n",
    "    \n",
    "    \n",
    "\"\"\""
   ]
  },
  {
   "cell_type": "code",
   "execution_count": 57,
   "metadata": {},
   "outputs": [],
   "source": [
    "#step 1-3\n",
    "\n",
    "fruits = [\"apple\", \"orange\", \"banana\"]\n",
    "\n",
    "vegatables = [\"tomatoes\", \"carrots\", \"kale\"]\n",
    "\n",
    "dishes = [[\"tomato soup\", \"tomatoes\"], [\"carrot juice\", \"carrots\"], [\"apple pie\", \"apple\"]]\n",
    "\n"
   ]
  },
  {
   "cell_type": "code",
   "execution_count": 58,
   "metadata": {},
   "outputs": [
    {
     "name": "stdout",
     "output_type": "stream",
     "text": [
      "[['tomato soup', 'tomatoes'], ['carrot juice', 'carrots'], ['apple pie', 'apple']]\n"
     ]
    }
   ],
   "source": [
    "print(dishes)"
   ]
  },
  {
   "cell_type": "code",
   "execution_count": 72,
   "metadata": {},
   "outputs": [
    {
     "name": "stdout",
     "output_type": "stream",
     "text": [
      "tomato soup tomatoes\n",
      "carrot juice carrots\n",
      "apple pie apple\n"
     ]
    }
   ],
   "source": [
    "#step 4\n",
    "\n",
    "for dish, ingredient in dishes:\n",
    "    print(dish, ingredient)"
   ]
  },
  {
   "cell_type": "code",
   "execution_count": 94,
   "metadata": {},
   "outputs": [
    {
     "name": "stdout",
     "output_type": "stream",
     "text": [
      "0 [['tomato soup', 'tomatoes'], ['carrot juice', 'carrots'], ['apple pie', 'apple']]\n",
      "1 [['tomato soup', 'tomatoes'], ['carrot juice', 'carrots'], ['apple pie', 'apple']]\n",
      "2 [['tomato soup', 'tomatoes'], ['carrot juice', 'carrots'], ['apple pie', 'apple']]\n"
     ]
    }
   ],
   "source": [
    "#step 5\n",
    "for index, dish in enumerate(dishes):\n",
    "    print(index, dishes)"
   ]
  },
  {
   "cell_type": "code",
   "execution_count": 95,
   "metadata": {},
   "outputs": [
    {
     "name": "stdout",
     "output_type": "stream",
     "text": [
      "[['tomato soup', 'tomatoes'], ['carrot juice', 'carrots'], ['apple pie', 'apple']]\n",
      "Invalid\n",
      "Invalid\n"
     ]
    }
   ],
   "source": [
    "#step 6\n",
    "\n",
    "for i in range(len(dishes)):\n",
    "    if dishes[i][1] == \"tomatoes\":\n",
    "        print(dishes)\n",
    "    else:\n",
    "        print(\"Invalid\")\n"
   ]
  },
  {
   "cell_type": "code",
   "execution_count": 124,
   "metadata": {},
   "outputs": [
    {
     "name": "stdout",
     "output_type": "stream",
     "text": [
      "[['apple pie', 'apple']]\n"
     ]
    }
   ],
   "source": [
    "#step 7\n",
    "fruits = [\"apple\", \"orange\", \"banana\"]\n",
    "\n",
    "fruits_dishes = [dish for dish in dishes\n",
    "                        if any(fruit in dish\n",
    "                          for fruit in fruits)]\n",
    "print(fruits_dishes)\n"
   ]
  },
  {
   "cell_type": "code",
   "execution_count": 138,
   "metadata": {},
   "outputs": [
    {
     "name": "stdin",
     "output_type": "stream",
     "text": [
      "What ingredient do you want to search for:  apple\n"
     ]
    },
    {
     "name": "stdout",
     "output_type": "stream",
     "text": [
      "apple pie\n"
     ]
    }
   ],
   "source": [
    "#step 8\n",
    "\n",
    "\"\"\"\n",
    "fruits_dishes = [dish for dish in dishes\n",
    "                        if any(fruit in dish\n",
    "                          for fruit in fruits)]\n",
    "print(fruits_dishes)\n",
    "\n",
    "\"\"\"\n",
    "ingredients = input(\"What ingredient do you want to search for: \")\n",
    "\n",
    "dishes_ingredients = (dish[0] for dish in dishes if ingredients in dish) \n",
    "for dish in dishes_ingredients: \n",
    "    print(dish)"
   ]
  },
  {
   "cell_type": "code",
   "execution_count": null,
   "metadata": {},
   "outputs": [],
   "source": []
  },
  {
   "cell_type": "code",
   "execution_count": null,
   "metadata": {},
   "outputs": [],
   "source": []
  }
 ],
 "metadata": {
  "kernelspec": {
   "display_name": "Python 3",
   "language": "python",
   "name": "python3"
  },
  "language_info": {
   "codemirror_mode": {
    "name": "ipython",
    "version": 3
   },
   "file_extension": ".py",
   "mimetype": "text/x-python",
   "name": "python",
   "nbconvert_exporter": "python",
   "pygments_lexer": "ipython3",
   "version": "3.7.3"
  }
 },
 "nbformat": 4,
 "nbformat_minor": 4
}
