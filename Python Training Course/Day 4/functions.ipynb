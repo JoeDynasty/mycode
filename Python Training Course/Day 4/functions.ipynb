{
 "cells": [
  {
   "cell_type": "code",
   "execution_count": null,
   "metadata": {},
   "outputs": [],
   "source": [
    "def function_name([arguments]):\n",
    "    pass"
   ]
  },
  {
   "cell_type": "code",
   "execution_count": null,
   "metadata": {},
   "outputs": [],
   "source": [
    "def print_welcome():\n",
    "    print(\"Welcome to the FVC\")\n",
    "    print()\n",
    "    \n",
    "print_welcome()"
   ]
  },
  {
   "cell_type": "code",
   "execution_count": null,
   "metadata": {},
   "outputs": [],
   "source": [
    "def print_welcome(message):\n",
    "    print(message)\n",
    "    print()\n",
    "\n",
    "message = \"This new technolgy is super cool!\"\n",
    "print_welcome(message)"
   ]
  },
  {
   "cell_type": "code",
   "execution_count": null,
   "metadata": {},
   "outputs": [],
   "source": [
    "def calculate_miles_per_gallon(miles_driven, gallons):\n",
    "    mpg = miles_driven / gallons\n",
    "    mpg = round(mpg,1)\n",
    "    return mpg\n",
    "miles = 500\n",
    "gallons = 14\n",
    "mpg = calculate_miles_per_gallon(miles, gallons)\n",
    "print(mpg)"
   ]
  },
  {
   "cell_type": "code",
   "execution_count": null,
   "metadata": {},
   "outputs": [],
   "source": [
    "def calculate_future_value(monthly_investment, yearly_interest, \n",
    "                           years):\n",
    "    # convert yearly values to monthly values\n",
    "    monthly_interest_rate = yearly_interest / 12 / 100\n",
    "    months = years * 12\n",
    " \n",
    "    # calculate future value\n",
    "    future_value = 0.0\n",
    "    for i in range(months):\n",
    "        future_value += monthly_investment\n",
    "        monthly_interest = future_value * monthly_interest_rate\n",
    "        future_value += monthly_interest\n",
    "    return future_value\n",
    "\n",
    "def main():\n",
    "    choice = 'y'\n",
    "    while choice.lower() == 'y':\n",
    "        monthly_investment = float(input(\"Enter monthly investment:   \"))\n",
    "        yearly_interest = float(input(\"Enter yearly interest rate: \"))\n",
    "        years = int(input(\"Enter number of years:      \"))\n",
    "        # get the future value\n",
    "        future_value = calculate_future_value(monthly_investment, yearly_interest, years)\n",
    "        # display output\n",
    "        print(\"Future value: \\t\\t\\t\", round(future_value, 2))\n",
    "        choice = input(\"Continue? (y/n): \")\n",
    "        print(\"Bye!\")\n",
    "\n",
    "if __name__ == \"__main__\": # if main module\n",
    "    main() # call main() functions"
   ]
  },
  {
   "cell_type": "code",
   "execution_count": null,
   "metadata": {},
   "outputs": [],
   "source": [
    "def to_celsius(fahrenheit):\n",
    "    celsius = (fahrenheit - 32) * 5/9\n",
    "    return celsius\n",
    " \n",
    "def to_fahrenheit(celsius):\n",
    "    fahrenheit = celsius * 9/5 + 32\n",
    "    return fahrenheit\n",
    " \n",
    "# the main() function is used to test the other functions\n",
    "# this code isn't run if this module isn't the main module\n",
    "def main():\n",
    "    for temp in range(0, 212, 40):\n",
    "        print(temp, \"Fahrenheit =\", \n",
    "              round(to_celsius(temp)), \"Celsius\")\n",
    "    \n",
    "    for temp in range(0, 100, 20):\n",
    "        print(temp, \"Celsius =\", \n",
    "              round(to_fahrenheit(temp)), \"Fahrenheit\")\n",
    "# if this module is the main module, call the main() function\n",
    "# to test the other functions\n",
    "if __name__ == \"__main__\":\n",
    "    main()\n"
   ]
  }
 ],
 "metadata": {
  "kernelspec": {
   "display_name": "Python 3",
   "language": "python",
   "name": "python3"
  },
  "language_info": {
   "codemirror_mode": {
    "name": "ipython",
    "version": 3
   },
   "file_extension": ".py",
   "mimetype": "text/x-python",
   "name": "python",
   "nbconvert_exporter": "python",
   "pygments_lexer": "ipython3",
   "version": "3.7.3"
  }
 },
 "nbformat": 4,
 "nbformat_minor": 4
}
